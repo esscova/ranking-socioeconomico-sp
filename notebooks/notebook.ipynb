{
 "cells": [
  {
   "cell_type": "markdown",
   "metadata": {},
   "source": [
    "# Análise de Distritos de São Paulo com PCA: Ranking Socioeconômico\n",
    "\n",
    "**Autor:** Wellington M Santos  \n",
    "**Data:** Março 2025  \n",
    "**Objetivo:** Aplicar PCA para reduzir dimensionalidade de dados socioeconômicos dos distritos de São Paulo, criar um ranking e visualizá-lo em mapas interativos.  \n",
    "**Tecnologias:** Python, Pandas, Scikit-learn, Geopandas, Folium, Plotly  \n",
    "\n",
    "Este projeto demonstra habilidades em análise de dados, Machine Learning não-supervisionado e visualização geoespacial, com foco em interpretabilidade e aplicação prática."
   ]
  },
  {
   "cell_type": "markdown",
   "metadata": {},
   "source": [
    "### Passo 1: Configuração Inicial"
   ]
  },
  {
   "cell_type": "code",
   "execution_count": null,
   "metadata": {},
   "outputs": [],
   "source": [
    "# bibliotecas necessárias\n",
    "import pandas as pd\n",
    "import numpy as np\n",
    "from sklearn.preprocessing import StandardScaler\n",
    "from sklearn.decomposition import PCA\n",
    "from factor_analyzer import factor_analyzer\n",
    "import geopandas as gpd\n",
    "import folium\n",
    "import plotly.express as px\n",
    "import matplotlib.pyplot as plt\n",
    "import seaborn as sns\n",
    "from unidecode import unidecode\n",
    "\n",
    "# configuração para visualização\n",
    "%matplotlib inline\n",
    "plt.style.use('seaborn-v0_8-darkgrid')  "
   ]
  },
  {
   "cell_type": "markdown",
   "metadata": {},
   "source": [
    "\n",
    "- Importamos bibliotecas para manipulação de dados (`pandas`), Machine Learning (`sklearn`), análise fatorial (`factor_analyzer`), visualização geoespacial (`geopandas`, `folium`) e gráficos interativos (`plotly`).\n",
    "- Configuramos um estilo visual consistente para apresentar os resultados de forma profissional."
   ]
  },
  {
   "cell_type": "markdown",
   "metadata": {},
   "source": [
    "### Passo 2: Carregamento e Exploração"
   ]
  },
  {
   "cell_type": "code",
   "execution_count": null,
   "metadata": {},
   "outputs": [
    {
     "name": "stdout",
     "output_type": "stream",
     "text": [
      "Primeiras linhas do dataset:\n"
     ]
    },
    {
     "data": {
      "text/html": [
       "<div>\n",
       "<style scoped>\n",
       "    .dataframe tbody tr th:only-of-type {\n",
       "        vertical-align: middle;\n",
       "    }\n",
       "\n",
       "    .dataframe tbody tr th {\n",
       "        vertical-align: top;\n",
       "    }\n",
       "\n",
       "    .dataframe thead th {\n",
       "        text-align: right;\n",
       "    }\n",
       "</style>\n",
       "<table border=\"1\" class=\"dataframe\">\n",
       "  <thead>\n",
       "    <tr style=\"text-align: right;\">\n",
       "      <th></th>\n",
       "      <th>cod_ibge</th>\n",
       "      <th>distritos</th>\n",
       "      <th>renda</th>\n",
       "      <th>quota</th>\n",
       "      <th>escolaridade</th>\n",
       "      <th>idade</th>\n",
       "      <th>mortalidade</th>\n",
       "      <th>txcresc</th>\n",
       "      <th>causasext</th>\n",
       "      <th>favel</th>\n",
       "      <th>denspop</th>\n",
       "    </tr>\n",
       "  </thead>\n",
       "  <tbody>\n",
       "    <tr>\n",
       "      <th>0</th>\n",
       "      <td>1</td>\n",
       "      <td>Água Rasa</td>\n",
       "      <td>1961</td>\n",
       "      <td>34.619999</td>\n",
       "      <td>7.6</td>\n",
       "      <td>32</td>\n",
       "      <td>13.86</td>\n",
       "      <td>-1.840000</td>\n",
       "      <td>52.980000</td>\n",
       "      <td>0.00</td>\n",
       "      <td>125.610001</td>\n",
       "    </tr>\n",
       "    <tr>\n",
       "      <th>1</th>\n",
       "      <td>12</td>\n",
       "      <td>Alto de Pinheiros</td>\n",
       "      <td>4180</td>\n",
       "      <td>75.959999</td>\n",
       "      <td>8.4</td>\n",
       "      <td>33</td>\n",
       "      <td>8.68</td>\n",
       "      <td>-2.520000</td>\n",
       "      <td>38.570000</td>\n",
       "      <td>0.69</td>\n",
       "      <td>57.560001</td>\n",
       "    </tr>\n",
       "    <tr>\n",
       "      <th>2</th>\n",
       "      <td>23</td>\n",
       "      <td>Anhanguera</td>\n",
       "      <td>1093</td>\n",
       "      <td>4.500000</td>\n",
       "      <td>5.8</td>\n",
       "      <td>23</td>\n",
       "      <td>15.36</td>\n",
       "      <td>18.120001</td>\n",
       "      <td>22.680000</td>\n",
       "      <td>0.00</td>\n",
       "      <td>8.570000</td>\n",
       "    </tr>\n",
       "    <tr>\n",
       "      <th>3</th>\n",
       "      <td>34</td>\n",
       "      <td>Aricanduva</td>\n",
       "      <td>1311</td>\n",
       "      <td>21.020000</td>\n",
       "      <td>6.8</td>\n",
       "      <td>27</td>\n",
       "      <td>18.43</td>\n",
       "      <td>-1.070000</td>\n",
       "      <td>76.220001</td>\n",
       "      <td>5.38</td>\n",
       "      <td>138.539993</td>\n",
       "    </tr>\n",
       "    <tr>\n",
       "      <th>4</th>\n",
       "      <td>45</td>\n",
       "      <td>Artur Alvim</td>\n",
       "      <td>1248</td>\n",
       "      <td>15.910000</td>\n",
       "      <td>7.0</td>\n",
       "      <td>27</td>\n",
       "      <td>19.73</td>\n",
       "      <td>-1.400000</td>\n",
       "      <td>67.250000</td>\n",
       "      <td>4.11</td>\n",
       "      <td>167.399994</td>\n",
       "    </tr>\n",
       "  </tbody>\n",
       "</table>\n",
       "</div>"
      ],
      "text/plain": [
       "   cod_ibge          distritos  renda      quota  escolaridade  idade  \\\n",
       "0         1          Água Rasa   1961  34.619999           7.6     32   \n",
       "1        12  Alto de Pinheiros   4180  75.959999           8.4     33   \n",
       "2        23         Anhanguera   1093   4.500000           5.8     23   \n",
       "3        34         Aricanduva   1311  21.020000           6.8     27   \n",
       "4        45        Artur Alvim   1248  15.910000           7.0     27   \n",
       "\n",
       "   mortalidade    txcresc  causasext  favel     denspop  \n",
       "0        13.86  -1.840000  52.980000   0.00  125.610001  \n",
       "1         8.68  -2.520000  38.570000   0.69   57.560001  \n",
       "2        15.36  18.120001  22.680000   0.00    8.570000  \n",
       "3        18.43  -1.070000  76.220001   5.38  138.539993  \n",
       "4        19.73  -1.400000  67.250000   4.11  167.399994  "
      ]
     },
     "metadata": {},
     "output_type": "display_data"
    },
    {
     "name": "stdout",
     "output_type": "stream",
     "text": [
      "\n",
      "Informações do dataset:\n",
      "<class 'pandas.core.frame.DataFrame'>\n",
      "RangeIndex: 96 entries, 0 to 95\n",
      "Data columns (total 11 columns):\n",
      " #   Column        Non-Null Count  Dtype  \n",
      "---  ------        --------------  -----  \n",
      " 0   cod_ibge      96 non-null     int64  \n",
      " 1   distritos     96 non-null     object \n",
      " 2   renda         96 non-null     int64  \n",
      " 3   quota         96 non-null     float64\n",
      " 4   escolaridade  96 non-null     float64\n",
      " 5   idade         96 non-null     int64  \n",
      " 6   mortalidade   96 non-null     float64\n",
      " 7   txcresc       96 non-null     float64\n",
      " 8   causasext     96 non-null     float64\n",
      " 9   favel         96 non-null     float64\n",
      " 10  denspop       96 non-null     float64\n",
      "dtypes: float64(7), int64(3), object(1)\n",
      "memory usage: 8.4+ KB\n"
     ]
    }
   ],
   "source": [
    "# Carregamento do dataset\n",
    "distritos_sp = pd.read_csv('../data/distritos_sp.csv')\n",
    "\n",
    "# Visualização inicial\n",
    "print(\"Primeiras linhas do dataset:\")\n",
    "display(distritos_sp.head())\n",
    "\n",
    "# Informações do dataset\n",
    "print(\"\\nInformações do dataset:\")\n",
    "distritos_sp.info()"
   ]
  },
  {
   "cell_type": "markdown",
   "metadata": {},
   "source": [
    "- Carregamos os dados dos distritos de São Paulo a partir de um arquivo CSV.\n",
    "- Exibimos as primeiras linhas para inspeção e informações sobre tipos de dados e valores nulos, garantindo a qualidade inicial do dataset."
   ]
  },
  {
   "cell_type": "markdown",
   "metadata": {},
   "source": [
    "### Passo 3: Preparação e Validação\n"
   ]
  },
  {
   "cell_type": "code",
   "execution_count": 10,
   "metadata": {},
   "outputs": [
    {
     "name": "stdout",
     "output_type": "stream",
     "text": [
      "Matriz de correlação:\n"
     ]
    },
    {
     "data": {
      "text/html": [
       "<style type=\"text/css\">\n",
       "#T_4309e_row0_col0, #T_4309e_row1_col1, #T_4309e_row2_col2, #T_4309e_row3_col3, #T_4309e_row4_col4, #T_4309e_row5_col5, #T_4309e_row6_col6, #T_4309e_row7_col7, #T_4309e_row8_col8 {\n",
       "  background-color: #b40426;\n",
       "  color: #f1f1f1;\n",
       "}\n",
       "#T_4309e_row0_col1, #T_4309e_row1_col0 {\n",
       "  background-color: #c73635;\n",
       "  color: #f1f1f1;\n",
       "}\n",
       "#T_4309e_row0_col2 {\n",
       "  background-color: #df634e;\n",
       "  color: #f1f1f1;\n",
       "}\n",
       "#T_4309e_row0_col3 {\n",
       "  background-color: #e57058;\n",
       "  color: #f1f1f1;\n",
       "}\n",
       "#T_4309e_row0_col4, #T_4309e_row1_col4, #T_4309e_row6_col1 {\n",
       "  background-color: #465ecf;\n",
       "  color: #f1f1f1;\n",
       "}\n",
       "#T_4309e_row0_col5 {\n",
       "  background-color: #6e90f2;\n",
       "  color: #f1f1f1;\n",
       "}\n",
       "#T_4309e_row0_col6 {\n",
       "  background-color: #5875e1;\n",
       "  color: #f1f1f1;\n",
       "}\n",
       "#T_4309e_row0_col7 {\n",
       "  background-color: #88abfd;\n",
       "  color: #000000;\n",
       "}\n",
       "#T_4309e_row0_col8, #T_4309e_row7_col1 {\n",
       "  background-color: #7b9ff9;\n",
       "  color: #f1f1f1;\n",
       "}\n",
       "#T_4309e_row1_col2 {\n",
       "  background-color: #d24b40;\n",
       "  color: #f1f1f1;\n",
       "}\n",
       "#T_4309e_row1_col3 {\n",
       "  background-color: #d65244;\n",
       "  color: #f1f1f1;\n",
       "}\n",
       "#T_4309e_row1_col5, #T_4309e_row4_col3 {\n",
       "  background-color: #5572df;\n",
       "  color: #f1f1f1;\n",
       "}\n",
       "#T_4309e_row1_col6 {\n",
       "  background-color: #516ddb;\n",
       "  color: #f1f1f1;\n",
       "}\n",
       "#T_4309e_row1_col7 {\n",
       "  background-color: #7093f3;\n",
       "  color: #f1f1f1;\n",
       "}\n",
       "#T_4309e_row1_col8, #T_4309e_row8_col7 {\n",
       "  background-color: #92b4fe;\n",
       "  color: #000000;\n",
       "}\n",
       "#T_4309e_row2_col0 {\n",
       "  background-color: #e36b54;\n",
       "  color: #f1f1f1;\n",
       "}\n",
       "#T_4309e_row2_col1 {\n",
       "  background-color: #d55042;\n",
       "  color: #f1f1f1;\n",
       "}\n",
       "#T_4309e_row2_col3, #T_4309e_row3_col2 {\n",
       "  background-color: #bd1f2d;\n",
       "  color: #f1f1f1;\n",
       "}\n",
       "#T_4309e_row2_col4, #T_4309e_row3_col5, #T_4309e_row3_col6, #T_4309e_row3_col7, #T_4309e_row4_col0, #T_4309e_row5_col1, #T_4309e_row5_col2, #T_4309e_row5_col3, #T_4309e_row5_col8 {\n",
       "  background-color: #3b4cc0;\n",
       "  color: #f1f1f1;\n",
       "}\n",
       "#T_4309e_row2_col5, #T_4309e_row2_col6 {\n",
       "  background-color: #3c4ec2;\n",
       "  color: #f1f1f1;\n",
       "}\n",
       "#T_4309e_row2_col7 {\n",
       "  background-color: #485fd1;\n",
       "  color: #f1f1f1;\n",
       "}\n",
       "#T_4309e_row2_col8 {\n",
       "  background-color: #adc9fd;\n",
       "  color: #000000;\n",
       "}\n",
       "#T_4309e_row3_col0 {\n",
       "  background-color: #e97a5f;\n",
       "  color: #f1f1f1;\n",
       "}\n",
       "#T_4309e_row3_col1 {\n",
       "  background-color: #d85646;\n",
       "  color: #f1f1f1;\n",
       "}\n",
       "#T_4309e_row3_col4 {\n",
       "  background-color: #3f53c6;\n",
       "  color: #f1f1f1;\n",
       "}\n",
       "#T_4309e_row3_col8, #T_4309e_row8_col0 {\n",
       "  background-color: #a9c6fd;\n",
       "  color: #000000;\n",
       "}\n",
       "#T_4309e_row4_col1 {\n",
       "  background-color: #4055c8;\n",
       "  color: #f1f1f1;\n",
       "}\n",
       "#T_4309e_row4_col2 {\n",
       "  background-color: #4e68d8;\n",
       "  color: #f1f1f1;\n",
       "}\n",
       "#T_4309e_row4_col5 {\n",
       "  background-color: #f3c7b1;\n",
       "  color: #000000;\n",
       "}\n",
       "#T_4309e_row4_col6 {\n",
       "  background-color: #f6bfa6;\n",
       "  color: #000000;\n",
       "}\n",
       "#T_4309e_row4_col7 {\n",
       "  background-color: #c6d6f1;\n",
       "  color: #000000;\n",
       "}\n",
       "#T_4309e_row4_col8 {\n",
       "  background-color: #688aef;\n",
       "  color: #f1f1f1;\n",
       "}\n",
       "#T_4309e_row5_col0 {\n",
       "  background-color: #4c66d6;\n",
       "  color: #f1f1f1;\n",
       "}\n",
       "#T_4309e_row5_col4 {\n",
       "  background-color: #f0cdbb;\n",
       "  color: #000000;\n",
       "}\n",
       "#T_4309e_row5_col6 {\n",
       "  background-color: #e3d9d3;\n",
       "  color: #000000;\n",
       "}\n",
       "#T_4309e_row5_col7 {\n",
       "  background-color: #e2dad5;\n",
       "  color: #000000;\n",
       "}\n",
       "#T_4309e_row6_col0 {\n",
       "  background-color: #455cce;\n",
       "  color: #f1f1f1;\n",
       "}\n",
       "#T_4309e_row6_col2, #T_4309e_row6_col3 {\n",
       "  background-color: #4a63d3;\n",
       "  color: #f1f1f1;\n",
       "}\n",
       "#T_4309e_row6_col4 {\n",
       "  background-color: #f5c1a9;\n",
       "  color: #000000;\n",
       "}\n",
       "#T_4309e_row6_col5 {\n",
       "  background-color: #e9d5cb;\n",
       "  color: #000000;\n",
       "}\n",
       "#T_4309e_row6_col7 {\n",
       "  background-color: #f2cab5;\n",
       "  color: #000000;\n",
       "}\n",
       "#T_4309e_row6_col8 {\n",
       "  background-color: #7597f6;\n",
       "  color: #f1f1f1;\n",
       "}\n",
       "#T_4309e_row7_col0 {\n",
       "  background-color: #8badfd;\n",
       "  color: #000000;\n",
       "}\n",
       "#T_4309e_row7_col2 {\n",
       "  background-color: #6b8df0;\n",
       "  color: #f1f1f1;\n",
       "}\n",
       "#T_4309e_row7_col3 {\n",
       "  background-color: #5f7fe8;\n",
       "  color: #f1f1f1;\n",
       "}\n",
       "#T_4309e_row7_col4 {\n",
       "  background-color: #cfdaea;\n",
       "  color: #000000;\n",
       "}\n",
       "#T_4309e_row7_col5 {\n",
       "  background-color: #efcfbf;\n",
       "  color: #000000;\n",
       "}\n",
       "#T_4309e_row7_col6 {\n",
       "  background-color: #f5c2aa;\n",
       "  color: #000000;\n",
       "}\n",
       "#T_4309e_row7_col8 {\n",
       "  background-color: #6485ec;\n",
       "  color: #f1f1f1;\n",
       "}\n",
       "#T_4309e_row8_col1 {\n",
       "  background-color: #bed2f6;\n",
       "  color: #000000;\n",
       "}\n",
       "#T_4309e_row8_col2 {\n",
       "  background-color: #dddcdc;\n",
       "  color: #000000;\n",
       "}\n",
       "#T_4309e_row8_col3 {\n",
       "  background-color: #dbdcde;\n",
       "  color: #000000;\n",
       "}\n",
       "#T_4309e_row8_col4 {\n",
       "  background-color: #a2c1ff;\n",
       "  color: #000000;\n",
       "}\n",
       "#T_4309e_row8_col5 {\n",
       "  background-color: #8caffe;\n",
       "  color: #000000;\n",
       "}\n",
       "#T_4309e_row8_col6 {\n",
       "  background-color: #b1cbfc;\n",
       "  color: #000000;\n",
       "}\n",
       "</style>\n",
       "<table id=\"T_4309e\">\n",
       "  <thead>\n",
       "    <tr>\n",
       "      <th class=\"blank level0\" >&nbsp;</th>\n",
       "      <th id=\"T_4309e_level0_col0\" class=\"col_heading level0 col0\" >renda</th>\n",
       "      <th id=\"T_4309e_level0_col1\" class=\"col_heading level0 col1\" >quota</th>\n",
       "      <th id=\"T_4309e_level0_col2\" class=\"col_heading level0 col2\" >escolaridade</th>\n",
       "      <th id=\"T_4309e_level0_col3\" class=\"col_heading level0 col3\" >idade</th>\n",
       "      <th id=\"T_4309e_level0_col4\" class=\"col_heading level0 col4\" >mortalidade</th>\n",
       "      <th id=\"T_4309e_level0_col5\" class=\"col_heading level0 col5\" >txcresc</th>\n",
       "      <th id=\"T_4309e_level0_col6\" class=\"col_heading level0 col6\" >causasext</th>\n",
       "      <th id=\"T_4309e_level0_col7\" class=\"col_heading level0 col7\" >favel</th>\n",
       "      <th id=\"T_4309e_level0_col8\" class=\"col_heading level0 col8\" >denspop</th>\n",
       "    </tr>\n",
       "  </thead>\n",
       "  <tbody>\n",
       "    <tr>\n",
       "      <th id=\"T_4309e_level0_row0\" class=\"row_heading level0 row0\" >renda</th>\n",
       "      <td id=\"T_4309e_row0_col0\" class=\"data row0 col0\" >1.000000</td>\n",
       "      <td id=\"T_4309e_row0_col1\" class=\"data row0 col1\" >0.920099</td>\n",
       "      <td id=\"T_4309e_row0_col2\" class=\"data row0 col2\" >0.777332</td>\n",
       "      <td id=\"T_4309e_row0_col3\" class=\"data row0 col3\" >0.732307</td>\n",
       "      <td id=\"T_4309e_row0_col4\" class=\"data row0 col4\" >-0.519585</td>\n",
       "      <td id=\"T_4309e_row0_col5\" class=\"data row0 col5\" >-0.424711</td>\n",
       "      <td id=\"T_4309e_row0_col6\" class=\"data row0 col6\" >-0.462516</td>\n",
       "      <td id=\"T_4309e_row0_col7\" class=\"data row0 col7\" >-0.146957</td>\n",
       "      <td id=\"T_4309e_row0_col8\" class=\"data row0 col8\" >-0.019711</td>\n",
       "    </tr>\n",
       "    <tr>\n",
       "      <th id=\"T_4309e_level0_row1\" class=\"row_heading level0 row1\" >quota</th>\n",
       "      <td id=\"T_4309e_row1_col0\" class=\"data row1 col0\" >0.920099</td>\n",
       "      <td id=\"T_4309e_row1_col1\" class=\"data row1 col1\" >1.000000</td>\n",
       "      <td id=\"T_4309e_row1_col2\" class=\"data row1 col2\" >0.850455</td>\n",
       "      <td id=\"T_4309e_row1_col3\" class=\"data row1 col3\" >0.832737</td>\n",
       "      <td id=\"T_4309e_row1_col4\" class=\"data row1 col4\" >-0.520282</td>\n",
       "      <td id=\"T_4309e_row1_col5\" class=\"data row1 col5\" >-0.554767</td>\n",
       "      <td id=\"T_4309e_row1_col6\" class=\"data row1 col6\" >-0.491020</td>\n",
       "      <td id=\"T_4309e_row1_col7\" class=\"data row1 col7\" >-0.243010</td>\n",
       "      <td id=\"T_4309e_row1_col8\" class=\"data row1 col8\" >0.057374</td>\n",
       "    </tr>\n",
       "    <tr>\n",
       "      <th id=\"T_4309e_level0_row2\" class=\"row_heading level0 row2\" >escolaridade</th>\n",
       "      <td id=\"T_4309e_row2_col0\" class=\"data row2 col0\" >0.777332</td>\n",
       "      <td id=\"T_4309e_row2_col1\" class=\"data row2 col1\" >0.850455</td>\n",
       "      <td id=\"T_4309e_row2_col2\" class=\"data row2 col2\" >1.000000</td>\n",
       "      <td id=\"T_4309e_row2_col3\" class=\"data row2 col3\" >0.955825</td>\n",
       "      <td id=\"T_4309e_row2_col4\" class=\"data row2 col4\" >-0.582601</td>\n",
       "      <td id=\"T_4309e_row2_col5\" class=\"data row2 col5\" >-0.692968</td>\n",
       "      <td id=\"T_4309e_row2_col6\" class=\"data row2 col6\" >-0.606621</td>\n",
       "      <td id=\"T_4309e_row2_col7\" class=\"data row2 col7\" >-0.432548</td>\n",
       "      <td id=\"T_4309e_row2_col8\" class=\"data row2 col8\" >0.157673</td>\n",
       "    </tr>\n",
       "    <tr>\n",
       "      <th id=\"T_4309e_level0_row3\" class=\"row_heading level0 row3\" >idade</th>\n",
       "      <td id=\"T_4309e_row3_col0\" class=\"data row3 col0\" >0.732307</td>\n",
       "      <td id=\"T_4309e_row3_col1\" class=\"data row3 col1\" >0.832737</td>\n",
       "      <td id=\"T_4309e_row3_col2\" class=\"data row3 col2\" >0.955825</td>\n",
       "      <td id=\"T_4309e_row3_col3\" class=\"data row3 col3\" >1.000000</td>\n",
       "      <td id=\"T_4309e_row3_col4\" class=\"data row3 col4\" >-0.553758</td>\n",
       "      <td id=\"T_4309e_row3_col5\" class=\"data row3 col5\" >-0.703237</td>\n",
       "      <td id=\"T_4309e_row3_col6\" class=\"data row3 col6\" >-0.615073</td>\n",
       "      <td id=\"T_4309e_row3_col7\" class=\"data row3 col7\" >-0.499838</td>\n",
       "      <td id=\"T_4309e_row3_col8\" class=\"data row3 col8\" >0.141469</td>\n",
       "    </tr>\n",
       "    <tr>\n",
       "      <th id=\"T_4309e_level0_row4\" class=\"row_heading level0 row4\" >mortalidade</th>\n",
       "      <td id=\"T_4309e_row4_col0\" class=\"data row4 col0\" >-0.519585</td>\n",
       "      <td id=\"T_4309e_row4_col1\" class=\"data row4 col1\" >-0.520282</td>\n",
       "      <td id=\"T_4309e_row4_col2\" class=\"data row4 col2\" >-0.582601</td>\n",
       "      <td id=\"T_4309e_row4_col3\" class=\"data row4 col3\" >-0.553758</td>\n",
       "      <td id=\"T_4309e_row4_col4\" class=\"data row4 col4\" >1.000000</td>\n",
       "      <td id=\"T_4309e_row4_col5\" class=\"data row4 col5\" >0.346049</td>\n",
       "      <td id=\"T_4309e_row4_col6\" class=\"data row4 col6\" >0.422790</td>\n",
       "      <td id=\"T_4309e_row4_col7\" class=\"data row4 col7\" >0.130877</td>\n",
       "      <td id=\"T_4309e_row4_col8\" class=\"data row4 col8\" >-0.093018</td>\n",
       "    </tr>\n",
       "    <tr>\n",
       "      <th id=\"T_4309e_level0_row5\" class=\"row_heading level0 row5\" >txcresc</th>\n",
       "      <td id=\"T_4309e_row5_col0\" class=\"data row5 col0\" >-0.424711</td>\n",
       "      <td id=\"T_4309e_row5_col1\" class=\"data row5 col1\" >-0.554767</td>\n",
       "      <td id=\"T_4309e_row5_col2\" class=\"data row5 col2\" >-0.692968</td>\n",
       "      <td id=\"T_4309e_row5_col3\" class=\"data row5 col3\" >-0.703237</td>\n",
       "      <td id=\"T_4309e_row5_col4\" class=\"data row5 col4\" >0.346049</td>\n",
       "      <td id=\"T_4309e_row5_col5\" class=\"data row5 col5\" >1.000000</td>\n",
       "      <td id=\"T_4309e_row5_col6\" class=\"data row5 col6\" >0.234472</td>\n",
       "      <td id=\"T_4309e_row5_col7\" class=\"data row5 col7\" >0.281853</td>\n",
       "      <td id=\"T_4309e_row5_col8\" class=\"data row5 col8\" >-0.279084</td>\n",
       "    </tr>\n",
       "    <tr>\n",
       "      <th id=\"T_4309e_level0_row6\" class=\"row_heading level0 row6\" >causasext</th>\n",
       "      <td id=\"T_4309e_row6_col0\" class=\"data row6 col0\" >-0.462516</td>\n",
       "      <td id=\"T_4309e_row6_col1\" class=\"data row6 col1\" >-0.491020</td>\n",
       "      <td id=\"T_4309e_row6_col2\" class=\"data row6 col2\" >-0.606621</td>\n",
       "      <td id=\"T_4309e_row6_col3\" class=\"data row6 col3\" >-0.615073</td>\n",
       "      <td id=\"T_4309e_row6_col4\" class=\"data row6 col4\" >0.422790</td>\n",
       "      <td id=\"T_4309e_row6_col5\" class=\"data row6 col5\" >0.234472</td>\n",
       "      <td id=\"T_4309e_row6_col6\" class=\"data row6 col6\" >1.000000</td>\n",
       "      <td id=\"T_4309e_row6_col7\" class=\"data row6 col7\" >0.404447</td>\n",
       "      <td id=\"T_4309e_row6_col8\" class=\"data row6 col8\" >-0.045281</td>\n",
       "    </tr>\n",
       "    <tr>\n",
       "      <th id=\"T_4309e_level0_row7\" class=\"row_heading level0 row7\" >favel</th>\n",
       "      <td id=\"T_4309e_row7_col0\" class=\"data row7 col0\" >-0.146957</td>\n",
       "      <td id=\"T_4309e_row7_col1\" class=\"data row7 col1\" >-0.243010</td>\n",
       "      <td id=\"T_4309e_row7_col2\" class=\"data row7 col2\" >-0.432548</td>\n",
       "      <td id=\"T_4309e_row7_col3\" class=\"data row7 col3\" >-0.499838</td>\n",
       "      <td id=\"T_4309e_row7_col4\" class=\"data row7 col4\" >0.130877</td>\n",
       "      <td id=\"T_4309e_row7_col5\" class=\"data row7 col5\" >0.281853</td>\n",
       "      <td id=\"T_4309e_row7_col6\" class=\"data row7 col6\" >0.404447</td>\n",
       "      <td id=\"T_4309e_row7_col7\" class=\"data row7 col7\" >1.000000</td>\n",
       "      <td id=\"T_4309e_row7_col8\" class=\"data row7 col8\" >-0.106481</td>\n",
       "    </tr>\n",
       "    <tr>\n",
       "      <th id=\"T_4309e_level0_row8\" class=\"row_heading level0 row8\" >denspop</th>\n",
       "      <td id=\"T_4309e_row8_col0\" class=\"data row8 col0\" >-0.019711</td>\n",
       "      <td id=\"T_4309e_row8_col1\" class=\"data row8 col1\" >0.057374</td>\n",
       "      <td id=\"T_4309e_row8_col2\" class=\"data row8 col2\" >0.157673</td>\n",
       "      <td id=\"T_4309e_row8_col3\" class=\"data row8 col3\" >0.141469</td>\n",
       "      <td id=\"T_4309e_row8_col4\" class=\"data row8 col4\" >-0.093018</td>\n",
       "      <td id=\"T_4309e_row8_col5\" class=\"data row8 col5\" >-0.279084</td>\n",
       "      <td id=\"T_4309e_row8_col6\" class=\"data row8 col6\" >-0.045281</td>\n",
       "      <td id=\"T_4309e_row8_col7\" class=\"data row8 col7\" >-0.106481</td>\n",
       "      <td id=\"T_4309e_row8_col8\" class=\"data row8 col8\" >1.000000</td>\n",
       "    </tr>\n",
       "  </tbody>\n",
       "</table>\n"
      ],
      "text/plain": [
       "<pandas.io.formats.style.Styler at 0x73e1b63b2540>"
      ]
     },
     "metadata": {},
     "output_type": "display_data"
    },
    {
     "name": "stdout",
     "output_type": "stream",
     "text": [
      "\n",
      "KMO Geral: 0.833\n",
      "Adequação por variável: [0.77821831 0.81941916 0.8560973  0.81750459 0.94677797 0.84146713\n",
      " 0.89083164 0.78871213 0.63275248]\n",
      "\n",
      "Teste de Bartlett - Chi²: 748.16, p-valor: 0.0000\n",
      "PCA é adequado\n"
     ]
    }
   ],
   "source": [
    "# Seleção de variáveis numéricas\n",
    "variaveis_numericas = distritos_sp.drop(['cod_ibge', 'distritos'], axis=1)\n",
    "\n",
    "# Matriz de correlação\n",
    "print(\"Matriz de correlação:\")\n",
    "display(variaveis_numericas.corr().style.background_gradient(cmap='coolwarm'))\n",
    "\n",
    "# Teste KMO\n",
    "kmo_variaveis, kmo = factor_analyzer.calculate_kmo(variaveis_numericas)\n",
    "print(f\"\\nKMO Geral: {kmo:.3f}\")\n",
    "print(\"Adequação por variável:\", kmo_variaveis)\n",
    "\n",
    "# Teste de Esfericidade de Bartlett\n",
    "chi2, p_value = factor_analyzer.calculate_bartlett_sphericity(variaveis_numericas)\n",
    "print(f\"\\nTeste de Bartlett - Chi²: {chi2:.2f}, p-valor: {p_value:.4f}\")\n",
    "print(\"PCA é adequado\" if p_value < 0.05 else \"PCA não é adequado.\")"
   ]
  },
  {
   "cell_type": "markdown",
   "metadata": {},
   "source": [
    "- Removemos colunas não numéricas para análise.\n",
    "- Calculamos a matriz de correlação com gradiente de cores para identificar relações entre variáveis.\n",
    "- Aplicamos o teste KMO (valores > 0.6 indicam adequação) e o teste de Bartlett (p-valor < 0.05 confirma correlações significativas), validando a aplicação do PCA."
   ]
  },
  {
   "cell_type": "markdown",
   "metadata": {},
   "source": [
    "### Passo 4: Padronização e PCA\n"
   ]
  },
  {
   "cell_type": "code",
   "execution_count": 11,
   "metadata": {},
   "outputs": [
    {
     "name": "stdout",
     "output_type": "stream",
     "text": [
      "Variância explicada por fator:\n"
     ]
    },
    {
     "data": {
      "text/html": [
       "<div>\n",
       "<style scoped>\n",
       "    .dataframe tbody tr th:only-of-type {\n",
       "        vertical-align: middle;\n",
       "    }\n",
       "\n",
       "    .dataframe tbody tr th {\n",
       "        vertical-align: top;\n",
       "    }\n",
       "\n",
       "    .dataframe thead th {\n",
       "        text-align: right;\n",
       "    }\n",
       "</style>\n",
       "<table border=\"1\" class=\"dataframe\">\n",
       "  <thead>\n",
       "    <tr style=\"text-align: right;\">\n",
       "      <th></th>\n",
       "      <th>Fator</th>\n",
       "      <th>Variância (%)</th>\n",
       "    </tr>\n",
       "  </thead>\n",
       "  <tbody>\n",
       "    <tr>\n",
       "      <th>0</th>\n",
       "      <td>F1</td>\n",
       "      <td>55.07</td>\n",
       "    </tr>\n",
       "    <tr>\n",
       "      <th>1</th>\n",
       "      <td>F2</td>\n",
       "      <td>12.94</td>\n",
       "    </tr>\n",
       "    <tr>\n",
       "      <th>2</th>\n",
       "      <td>F3</td>\n",
       "      <td>11.07</td>\n",
       "    </tr>\n",
       "    <tr>\n",
       "      <th>3</th>\n",
       "      <td>F4</td>\n",
       "      <td>8.05</td>\n",
       "    </tr>\n",
       "    <tr>\n",
       "      <th>4</th>\n",
       "      <td>F5</td>\n",
       "      <td>5.88</td>\n",
       "    </tr>\n",
       "    <tr>\n",
       "      <th>5</th>\n",
       "      <td>F6</td>\n",
       "      <td>4.43</td>\n",
       "    </tr>\n",
       "    <tr>\n",
       "      <th>6</th>\n",
       "      <td>F7</td>\n",
       "      <td>1.44</td>\n",
       "    </tr>\n",
       "    <tr>\n",
       "      <th>7</th>\n",
       "      <td>F8</td>\n",
       "      <td>0.72</td>\n",
       "    </tr>\n",
       "    <tr>\n",
       "      <th>8</th>\n",
       "      <td>F9</td>\n",
       "      <td>0.41</td>\n",
       "    </tr>\n",
       "  </tbody>\n",
       "</table>\n",
       "</div>"
      ],
      "text/plain": [
       "  Fator  Variância (%)\n",
       "0    F1          55.07\n",
       "1    F2          12.94\n",
       "2    F3          11.07\n",
       "3    F4           8.05\n",
       "4    F5           5.88\n",
       "5    F6           4.43\n",
       "6    F7           1.44\n",
       "7    F8           0.72\n",
       "8    F9           0.41"
      ]
     },
     "metadata": {},
     "output_type": "display_data"
    },
    {
     "data": {
      "application/vnd.plotly.v1+json": {
       "config": {
        "plotlyServerURL": "https://plot.ly"
       },
       "data": [
        {
         "alignmentgroup": "True",
         "hovertemplate": "x=%{x}<br>y=%{y}<br>text=%{text}<extra></extra>",
         "legendgroup": "",
         "marker": {
          "color": "#636efa",
          "pattern": {
           "shape": ""
          }
         },
         "name": "",
         "offsetgroup": "",
         "orientation": "v",
         "showlegend": false,
         "text": [
          0.55,
          0.13,
          0.11,
          0.08,
          0.06,
          0.04,
          0.01,
          0.01,
          0
         ],
         "textposition": "auto",
         "type": "bar",
         "x": [
          "F1",
          "F2",
          "F3",
          "F4",
          "F5",
          "F6",
          "F7",
          "F8",
          "F9"
         ],
         "xaxis": "x",
         "y": [
          0.5506700772160417,
          0.12937090486340183,
          0.11070601350577823,
          0.08045184763969224,
          0.05881135931905218,
          0.044258238863074346,
          0.014407633896292365,
          0.007229609523005744,
          0.004094315173661425
         ],
         "yaxis": "y"
        }
       ],
       "layout": {
        "barmode": "relative",
        "legend": {
         "tracegroupgap": 0
        },
        "template": {
         "data": {
          "bar": [
           {
            "error_x": {
             "color": "#2a3f5f"
            },
            "error_y": {
             "color": "#2a3f5f"
            },
            "marker": {
             "line": {
              "color": "#E5ECF6",
              "width": 0.5
             },
             "pattern": {
              "fillmode": "overlay",
              "size": 10,
              "solidity": 0.2
             }
            },
            "type": "bar"
           }
          ],
          "barpolar": [
           {
            "marker": {
             "line": {
              "color": "#E5ECF6",
              "width": 0.5
             },
             "pattern": {
              "fillmode": "overlay",
              "size": 10,
              "solidity": 0.2
             }
            },
            "type": "barpolar"
           }
          ],
          "carpet": [
           {
            "aaxis": {
             "endlinecolor": "#2a3f5f",
             "gridcolor": "white",
             "linecolor": "white",
             "minorgridcolor": "white",
             "startlinecolor": "#2a3f5f"
            },
            "baxis": {
             "endlinecolor": "#2a3f5f",
             "gridcolor": "white",
             "linecolor": "white",
             "minorgridcolor": "white",
             "startlinecolor": "#2a3f5f"
            },
            "type": "carpet"
           }
          ],
          "choropleth": [
           {
            "colorbar": {
             "outlinewidth": 0,
             "ticks": ""
            },
            "type": "choropleth"
           }
          ],
          "contour": [
           {
            "colorbar": {
             "outlinewidth": 0,
             "ticks": ""
            },
            "colorscale": [
             [
              0,
              "#0d0887"
             ],
             [
              0.1111111111111111,
              "#46039f"
             ],
             [
              0.2222222222222222,
              "#7201a8"
             ],
             [
              0.3333333333333333,
              "#9c179e"
             ],
             [
              0.4444444444444444,
              "#bd3786"
             ],
             [
              0.5555555555555556,
              "#d8576b"
             ],
             [
              0.6666666666666666,
              "#ed7953"
             ],
             [
              0.7777777777777778,
              "#fb9f3a"
             ],
             [
              0.8888888888888888,
              "#fdca26"
             ],
             [
              1,
              "#f0f921"
             ]
            ],
            "type": "contour"
           }
          ],
          "contourcarpet": [
           {
            "colorbar": {
             "outlinewidth": 0,
             "ticks": ""
            },
            "type": "contourcarpet"
           }
          ],
          "heatmap": [
           {
            "colorbar": {
             "outlinewidth": 0,
             "ticks": ""
            },
            "colorscale": [
             [
              0,
              "#0d0887"
             ],
             [
              0.1111111111111111,
              "#46039f"
             ],
             [
              0.2222222222222222,
              "#7201a8"
             ],
             [
              0.3333333333333333,
              "#9c179e"
             ],
             [
              0.4444444444444444,
              "#bd3786"
             ],
             [
              0.5555555555555556,
              "#d8576b"
             ],
             [
              0.6666666666666666,
              "#ed7953"
             ],
             [
              0.7777777777777778,
              "#fb9f3a"
             ],
             [
              0.8888888888888888,
              "#fdca26"
             ],
             [
              1,
              "#f0f921"
             ]
            ],
            "type": "heatmap"
           }
          ],
          "heatmapgl": [
           {
            "colorbar": {
             "outlinewidth": 0,
             "ticks": ""
            },
            "colorscale": [
             [
              0,
              "#0d0887"
             ],
             [
              0.1111111111111111,
              "#46039f"
             ],
             [
              0.2222222222222222,
              "#7201a8"
             ],
             [
              0.3333333333333333,
              "#9c179e"
             ],
             [
              0.4444444444444444,
              "#bd3786"
             ],
             [
              0.5555555555555556,
              "#d8576b"
             ],
             [
              0.6666666666666666,
              "#ed7953"
             ],
             [
              0.7777777777777778,
              "#fb9f3a"
             ],
             [
              0.8888888888888888,
              "#fdca26"
             ],
             [
              1,
              "#f0f921"
             ]
            ],
            "type": "heatmapgl"
           }
          ],
          "histogram": [
           {
            "marker": {
             "pattern": {
              "fillmode": "overlay",
              "size": 10,
              "solidity": 0.2
             }
            },
            "type": "histogram"
           }
          ],
          "histogram2d": [
           {
            "colorbar": {
             "outlinewidth": 0,
             "ticks": ""
            },
            "colorscale": [
             [
              0,
              "#0d0887"
             ],
             [
              0.1111111111111111,
              "#46039f"
             ],
             [
              0.2222222222222222,
              "#7201a8"
             ],
             [
              0.3333333333333333,
              "#9c179e"
             ],
             [
              0.4444444444444444,
              "#bd3786"
             ],
             [
              0.5555555555555556,
              "#d8576b"
             ],
             [
              0.6666666666666666,
              "#ed7953"
             ],
             [
              0.7777777777777778,
              "#fb9f3a"
             ],
             [
              0.8888888888888888,
              "#fdca26"
             ],
             [
              1,
              "#f0f921"
             ]
            ],
            "type": "histogram2d"
           }
          ],
          "histogram2dcontour": [
           {
            "colorbar": {
             "outlinewidth": 0,
             "ticks": ""
            },
            "colorscale": [
             [
              0,
              "#0d0887"
             ],
             [
              0.1111111111111111,
              "#46039f"
             ],
             [
              0.2222222222222222,
              "#7201a8"
             ],
             [
              0.3333333333333333,
              "#9c179e"
             ],
             [
              0.4444444444444444,
              "#bd3786"
             ],
             [
              0.5555555555555556,
              "#d8576b"
             ],
             [
              0.6666666666666666,
              "#ed7953"
             ],
             [
              0.7777777777777778,
              "#fb9f3a"
             ],
             [
              0.8888888888888888,
              "#fdca26"
             ],
             [
              1,
              "#f0f921"
             ]
            ],
            "type": "histogram2dcontour"
           }
          ],
          "mesh3d": [
           {
            "colorbar": {
             "outlinewidth": 0,
             "ticks": ""
            },
            "type": "mesh3d"
           }
          ],
          "parcoords": [
           {
            "line": {
             "colorbar": {
              "outlinewidth": 0,
              "ticks": ""
             }
            },
            "type": "parcoords"
           }
          ],
          "pie": [
           {
            "automargin": true,
            "type": "pie"
           }
          ],
          "scatter": [
           {
            "fillpattern": {
             "fillmode": "overlay",
             "size": 10,
             "solidity": 0.2
            },
            "type": "scatter"
           }
          ],
          "scatter3d": [
           {
            "line": {
             "colorbar": {
              "outlinewidth": 0,
              "ticks": ""
             }
            },
            "marker": {
             "colorbar": {
              "outlinewidth": 0,
              "ticks": ""
             }
            },
            "type": "scatter3d"
           }
          ],
          "scattercarpet": [
           {
            "marker": {
             "colorbar": {
              "outlinewidth": 0,
              "ticks": ""
             }
            },
            "type": "scattercarpet"
           }
          ],
          "scattergeo": [
           {
            "marker": {
             "colorbar": {
              "outlinewidth": 0,
              "ticks": ""
             }
            },
            "type": "scattergeo"
           }
          ],
          "scattergl": [
           {
            "marker": {
             "colorbar": {
              "outlinewidth": 0,
              "ticks": ""
             }
            },
            "type": "scattergl"
           }
          ],
          "scattermapbox": [
           {
            "marker": {
             "colorbar": {
              "outlinewidth": 0,
              "ticks": ""
             }
            },
            "type": "scattermapbox"
           }
          ],
          "scatterpolar": [
           {
            "marker": {
             "colorbar": {
              "outlinewidth": 0,
              "ticks": ""
             }
            },
            "type": "scatterpolar"
           }
          ],
          "scatterpolargl": [
           {
            "marker": {
             "colorbar": {
              "outlinewidth": 0,
              "ticks": ""
             }
            },
            "type": "scatterpolargl"
           }
          ],
          "scatterternary": [
           {
            "marker": {
             "colorbar": {
              "outlinewidth": 0,
              "ticks": ""
             }
            },
            "type": "scatterternary"
           }
          ],
          "surface": [
           {
            "colorbar": {
             "outlinewidth": 0,
             "ticks": ""
            },
            "colorscale": [
             [
              0,
              "#0d0887"
             ],
             [
              0.1111111111111111,
              "#46039f"
             ],
             [
              0.2222222222222222,
              "#7201a8"
             ],
             [
              0.3333333333333333,
              "#9c179e"
             ],
             [
              0.4444444444444444,
              "#bd3786"
             ],
             [
              0.5555555555555556,
              "#d8576b"
             ],
             [
              0.6666666666666666,
              "#ed7953"
             ],
             [
              0.7777777777777778,
              "#fb9f3a"
             ],
             [
              0.8888888888888888,
              "#fdca26"
             ],
             [
              1,
              "#f0f921"
             ]
            ],
            "type": "surface"
           }
          ],
          "table": [
           {
            "cells": {
             "fill": {
              "color": "#EBF0F8"
             },
             "line": {
              "color": "white"
             }
            },
            "header": {
             "fill": {
              "color": "#C8D4E3"
             },
             "line": {
              "color": "white"
             }
            },
            "type": "table"
           }
          ]
         },
         "layout": {
          "annotationdefaults": {
           "arrowcolor": "#2a3f5f",
           "arrowhead": 0,
           "arrowwidth": 1
          },
          "autotypenumbers": "strict",
          "coloraxis": {
           "colorbar": {
            "outlinewidth": 0,
            "ticks": ""
           }
          },
          "colorscale": {
           "diverging": [
            [
             0,
             "#8e0152"
            ],
            [
             0.1,
             "#c51b7d"
            ],
            [
             0.2,
             "#de77ae"
            ],
            [
             0.3,
             "#f1b6da"
            ],
            [
             0.4,
             "#fde0ef"
            ],
            [
             0.5,
             "#f7f7f7"
            ],
            [
             0.6,
             "#e6f5d0"
            ],
            [
             0.7,
             "#b8e186"
            ],
            [
             0.8,
             "#7fbc41"
            ],
            [
             0.9,
             "#4d9221"
            ],
            [
             1,
             "#276419"
            ]
           ],
           "sequential": [
            [
             0,
             "#0d0887"
            ],
            [
             0.1111111111111111,
             "#46039f"
            ],
            [
             0.2222222222222222,
             "#7201a8"
            ],
            [
             0.3333333333333333,
             "#9c179e"
            ],
            [
             0.4444444444444444,
             "#bd3786"
            ],
            [
             0.5555555555555556,
             "#d8576b"
            ],
            [
             0.6666666666666666,
             "#ed7953"
            ],
            [
             0.7777777777777778,
             "#fb9f3a"
            ],
            [
             0.8888888888888888,
             "#fdca26"
            ],
            [
             1,
             "#f0f921"
            ]
           ],
           "sequentialminus": [
            [
             0,
             "#0d0887"
            ],
            [
             0.1111111111111111,
             "#46039f"
            ],
            [
             0.2222222222222222,
             "#7201a8"
            ],
            [
             0.3333333333333333,
             "#9c179e"
            ],
            [
             0.4444444444444444,
             "#bd3786"
            ],
            [
             0.5555555555555556,
             "#d8576b"
            ],
            [
             0.6666666666666666,
             "#ed7953"
            ],
            [
             0.7777777777777778,
             "#fb9f3a"
            ],
            [
             0.8888888888888888,
             "#fdca26"
            ],
            [
             1,
             "#f0f921"
            ]
           ]
          },
          "colorway": [
           "#636efa",
           "#EF553B",
           "#00cc96",
           "#ab63fa",
           "#FFA15A",
           "#19d3f3",
           "#FF6692",
           "#B6E880",
           "#FF97FF",
           "#FECB52"
          ],
          "font": {
           "color": "#2a3f5f"
          },
          "geo": {
           "bgcolor": "white",
           "lakecolor": "white",
           "landcolor": "#E5ECF6",
           "showlakes": true,
           "showland": true,
           "subunitcolor": "white"
          },
          "hoverlabel": {
           "align": "left"
          },
          "hovermode": "closest",
          "mapbox": {
           "style": "light"
          },
          "paper_bgcolor": "white",
          "plot_bgcolor": "#E5ECF6",
          "polar": {
           "angularaxis": {
            "gridcolor": "white",
            "linecolor": "white",
            "ticks": ""
           },
           "bgcolor": "#E5ECF6",
           "radialaxis": {
            "gridcolor": "white",
            "linecolor": "white",
            "ticks": ""
           }
          },
          "scene": {
           "xaxis": {
            "backgroundcolor": "#E5ECF6",
            "gridcolor": "white",
            "gridwidth": 2,
            "linecolor": "white",
            "showbackground": true,
            "ticks": "",
            "zerolinecolor": "white"
           },
           "yaxis": {
            "backgroundcolor": "#E5ECF6",
            "gridcolor": "white",
            "gridwidth": 2,
            "linecolor": "white",
            "showbackground": true,
            "ticks": "",
            "zerolinecolor": "white"
           },
           "zaxis": {
            "backgroundcolor": "#E5ECF6",
            "gridcolor": "white",
            "gridwidth": 2,
            "linecolor": "white",
            "showbackground": true,
            "ticks": "",
            "zerolinecolor": "white"
           }
          },
          "shapedefaults": {
           "line": {
            "color": "#2a3f5f"
           }
          },
          "ternary": {
           "aaxis": {
            "gridcolor": "white",
            "linecolor": "white",
            "ticks": ""
           },
           "baxis": {
            "gridcolor": "white",
            "linecolor": "white",
            "ticks": ""
           },
           "bgcolor": "#E5ECF6",
           "caxis": {
            "gridcolor": "white",
            "linecolor": "white",
            "ticks": ""
           }
          },
          "title": {
           "x": 0.05
          },
          "xaxis": {
           "automargin": true,
           "gridcolor": "white",
           "linecolor": "white",
           "ticks": "",
           "title": {
            "standoff": 15
           },
           "zerolinecolor": "white",
           "zerolinewidth": 2
          },
          "yaxis": {
           "automargin": true,
           "gridcolor": "white",
           "linecolor": "white",
           "ticks": "",
           "title": {
            "standoff": 15
           },
           "zerolinecolor": "white",
           "zerolinewidth": 2
          }
         }
        },
        "title": {
         "text": "Scree Plot - Variância Explicada",
         "x": 0.5
        },
        "xaxis": {
         "anchor": "y",
         "domain": [
          0,
          1
         ],
         "title": {
          "text": "Fatores"
         }
        },
        "yaxis": {
         "anchor": "x",
         "domain": [
          0,
          1
         ],
         "title": {
          "text": "Proporção da Variância"
         }
        }
       }
      }
     },
     "metadata": {},
     "output_type": "display_data"
    }
   ],
   "source": [
    "# Padronização dos dados\n",
    "scaler = StandardScaler()\n",
    "dados_padronizados = scaler.fit_transform(variaveis_numericas)\n",
    "dados_padronizados_df = pd.DataFrame(dados_padronizados, columns=variaveis_numericas.columns)\n",
    "\n",
    "# Aplicação do PCA\n",
    "n_fatores = variaveis_numericas.shape[1]\n",
    "pca = PCA(n_components=n_fatores)\n",
    "pca.fit(dados_padronizados)\n",
    "\n",
    "# Variância explicada\n",
    "print(\"Variância explicada por fator:\")\n",
    "display(pd.DataFrame({\n",
    "    'Fator': [f'F{i+1}' for i in range(n_fatores)],\n",
    "    'Variância (%)': np.round(pca.explained_variance_ratio_ * 100, 2)\n",
    "}))\n",
    "\n",
    "# Scree Plot\n",
    "fig = px.bar(x=[f'F{i+1}' for i in range(n_fatores)], y=pca.explained_variance_ratio_,\n",
    "             text=np.round(pca.explained_variance_ratio_, 2), title='Scree Plot - Variância Explicada')\n",
    "fig.update_layout(xaxis_title=\"Fatores\", yaxis_title=\"Proporção da Variância\", title_x=0.5)\n",
    "fig.show()"
   ]
  },
  {
   "cell_type": "markdown",
   "metadata": {},
   "source": [
    "- Padronizamos os dados com `StandardScaler` para igualar escalas.\n",
    "- Aplicamos PCA, extraindo todos os fatores possíveis, e analisamos a variância explicada por cada um.\n",
    "- Visualizamos com um Scree Plot interativo, destacando a contribuição de cada fator para a variabilidade total."
   ]
  },
  {
   "cell_type": "markdown",
   "metadata": {},
   "source": [
    "### Passo 5: Análise e Seleção de Fatores\n"
   ]
  },
  {
   "cell_type": "code",
   "execution_count": 12,
   "metadata": {},
   "outputs": [
    {
     "name": "stdout",
     "output_type": "stream",
     "text": [
      "Resumo dos Fatores:\n"
     ]
    },
    {
     "data": {
      "text/html": [
       "<div>\n",
       "<style scoped>\n",
       "    .dataframe tbody tr th:only-of-type {\n",
       "        vertical-align: middle;\n",
       "    }\n",
       "\n",
       "    .dataframe tbody tr th {\n",
       "        vertical-align: top;\n",
       "    }\n",
       "\n",
       "    .dataframe thead th {\n",
       "        text-align: right;\n",
       "    }\n",
       "</style>\n",
       "<table border=\"1\" class=\"dataframe\">\n",
       "  <thead>\n",
       "    <tr style=\"text-align: right;\">\n",
       "      <th></th>\n",
       "      <th>Fator</th>\n",
       "      <th>Autovalor</th>\n",
       "      <th>Variância (%)</th>\n",
       "      <th>Variância Acumulada (%)</th>\n",
       "    </tr>\n",
       "  </thead>\n",
       "  <tbody>\n",
       "    <tr>\n",
       "      <th>0</th>\n",
       "      <td>F1</td>\n",
       "      <td>5.01</td>\n",
       "      <td>55.07</td>\n",
       "      <td>55.07</td>\n",
       "    </tr>\n",
       "    <tr>\n",
       "      <th>1</th>\n",
       "      <td>F2</td>\n",
       "      <td>1.18</td>\n",
       "      <td>12.94</td>\n",
       "      <td>68.00</td>\n",
       "    </tr>\n",
       "    <tr>\n",
       "      <th>2</th>\n",
       "      <td>F3</td>\n",
       "      <td>1.01</td>\n",
       "      <td>11.07</td>\n",
       "      <td>79.07</td>\n",
       "    </tr>\n",
       "    <tr>\n",
       "      <th>3</th>\n",
       "      <td>F4</td>\n",
       "      <td>0.73</td>\n",
       "      <td>8.05</td>\n",
       "      <td>87.12</td>\n",
       "    </tr>\n",
       "    <tr>\n",
       "      <th>4</th>\n",
       "      <td>F5</td>\n",
       "      <td>0.53</td>\n",
       "      <td>5.88</td>\n",
       "      <td>93.00</td>\n",
       "    </tr>\n",
       "    <tr>\n",
       "      <th>5</th>\n",
       "      <td>F6</td>\n",
       "      <td>0.40</td>\n",
       "      <td>4.43</td>\n",
       "      <td>97.43</td>\n",
       "    </tr>\n",
       "    <tr>\n",
       "      <th>6</th>\n",
       "      <td>F7</td>\n",
       "      <td>0.13</td>\n",
       "      <td>1.44</td>\n",
       "      <td>98.87</td>\n",
       "    </tr>\n",
       "    <tr>\n",
       "      <th>7</th>\n",
       "      <td>F8</td>\n",
       "      <td>0.07</td>\n",
       "      <td>0.72</td>\n",
       "      <td>99.59</td>\n",
       "    </tr>\n",
       "    <tr>\n",
       "      <th>8</th>\n",
       "      <td>F9</td>\n",
       "      <td>0.04</td>\n",
       "      <td>0.41</td>\n",
       "      <td>100.00</td>\n",
       "    </tr>\n",
       "  </tbody>\n",
       "</table>\n",
       "</div>"
      ],
      "text/plain": [
       "  Fator  Autovalor  Variância (%)  Variância Acumulada (%)\n",
       "0    F1       5.01          55.07                    55.07\n",
       "1    F2       1.18          12.94                    68.00\n",
       "2    F3       1.01          11.07                    79.07\n",
       "3    F4       0.73           8.05                    87.12\n",
       "4    F5       0.53           5.88                    93.00\n",
       "5    F6       0.40           4.43                    97.43\n",
       "6    F7       0.13           1.44                    98.87\n",
       "7    F8       0.07           0.72                    99.59\n",
       "8    F9       0.04           0.41                   100.00"
      ]
     },
     "metadata": {},
     "output_type": "display_data"
    },
    {
     "name": "stdout",
     "output_type": "stream",
     "text": [
      "\n",
      "Cargas Fatoriais (F1 e F2):\n"
     ]
    },
    {
     "data": {
      "text/html": [
       "<div>\n",
       "<style scoped>\n",
       "    .dataframe tbody tr th:only-of-type {\n",
       "        vertical-align: middle;\n",
       "    }\n",
       "\n",
       "    .dataframe tbody tr th {\n",
       "        vertical-align: top;\n",
       "    }\n",
       "\n",
       "    .dataframe thead th {\n",
       "        text-align: right;\n",
       "    }\n",
       "</style>\n",
       "<table border=\"1\" class=\"dataframe\">\n",
       "  <thead>\n",
       "    <tr style=\"text-align: right;\">\n",
       "      <th></th>\n",
       "      <th>F1</th>\n",
       "      <th>F2</th>\n",
       "    </tr>\n",
       "  </thead>\n",
       "  <tbody>\n",
       "    <tr>\n",
       "      <th>renda</th>\n",
       "      <td>0.836495</td>\n",
       "      <td>0.370908</td>\n",
       "    </tr>\n",
       "    <tr>\n",
       "      <th>quota</th>\n",
       "      <td>0.905333</td>\n",
       "      <td>0.227642</td>\n",
       "    </tr>\n",
       "    <tr>\n",
       "      <th>escolaridade</th>\n",
       "      <td>0.971617</td>\n",
       "      <td>-0.024723</td>\n",
       "    </tr>\n",
       "    <tr>\n",
       "      <th>idade</th>\n",
       "      <td>0.965175</td>\n",
       "      <td>-0.065791</td>\n",
       "    </tr>\n",
       "    <tr>\n",
       "      <th>mortalidade</th>\n",
       "      <td>-0.659141</td>\n",
       "      <td>-0.177561</td>\n",
       "    </tr>\n",
       "    <tr>\n",
       "      <th>txcresc</th>\n",
       "      <td>-0.700439</td>\n",
       "      <td>0.339217</td>\n",
       "    </tr>\n",
       "    <tr>\n",
       "      <th>causasext</th>\n",
       "      <td>-0.670077</td>\n",
       "      <td>-0.044140</td>\n",
       "    </tr>\n",
       "    <tr>\n",
       "      <th>favel</th>\n",
       "      <td>-0.459585</td>\n",
       "      <td>0.445164</td>\n",
       "    </tr>\n",
       "    <tr>\n",
       "      <th>denspop</th>\n",
       "      <td>0.167154</td>\n",
       "      <td>-0.797211</td>\n",
       "    </tr>\n",
       "  </tbody>\n",
       "</table>\n",
       "</div>"
      ],
      "text/plain": [
       "                    F1        F2\n",
       "renda         0.836495  0.370908\n",
       "quota         0.905333  0.227642\n",
       "escolaridade  0.971617 -0.024723\n",
       "idade         0.965175 -0.065791\n",
       "mortalidade  -0.659141 -0.177561\n",
       "txcresc      -0.700439  0.339217\n",
       "causasext    -0.670077 -0.044140\n",
       "favel        -0.459585  0.445164\n",
       "denspop       0.167154 -0.797211"
      ]
     },
     "metadata": {},
     "output_type": "display_data"
    },
    {
     "data": {
      "application/vnd.plotly.v1+json": {
       "config": {
        "plotlyServerURL": "https://plot.ly"
       },
       "data": [
        {
         "hovertemplate": "F1=%{x}<br>F2=%{y}<br>index=%{text}<extra></extra>",
         "legendgroup": "",
         "marker": {
          "color": "#636efa",
          "symbol": "circle"
         },
         "mode": "markers+text",
         "name": "",
         "orientation": "v",
         "showlegend": false,
         "text": [
          "renda",
          "quota",
          "escolaridade",
          "idade",
          "mortalidade",
          "txcresc",
          "causasext",
          "favel",
          "denspop"
         ],
         "textposition": "top center",
         "type": "scatter",
         "x": [
          0.8364950620123206,
          0.9053334296332837,
          0.971616992371487,
          0.9651752227539167,
          -0.6591412696427132,
          -0.7004391298932391,
          -0.6700766355739555,
          -0.4595852903387506,
          0.16715416945552491
         ],
         "xaxis": "x",
         "y": [
          0.370907845865094,
          0.2276419012330913,
          -0.024722768887019797,
          -0.06579068509938651,
          -0.17756117742114808,
          0.3392172959534017,
          -0.04414048957625784,
          0.4451644427864442,
          -0.7972108443483241
         ],
         "yaxis": "y"
        }
       ],
       "layout": {
        "legend": {
         "tracegroupgap": 0
        },
        "template": {
         "data": {
          "bar": [
           {
            "error_x": {
             "color": "#2a3f5f"
            },
            "error_y": {
             "color": "#2a3f5f"
            },
            "marker": {
             "line": {
              "color": "#E5ECF6",
              "width": 0.5
             },
             "pattern": {
              "fillmode": "overlay",
              "size": 10,
              "solidity": 0.2
             }
            },
            "type": "bar"
           }
          ],
          "barpolar": [
           {
            "marker": {
             "line": {
              "color": "#E5ECF6",
              "width": 0.5
             },
             "pattern": {
              "fillmode": "overlay",
              "size": 10,
              "solidity": 0.2
             }
            },
            "type": "barpolar"
           }
          ],
          "carpet": [
           {
            "aaxis": {
             "endlinecolor": "#2a3f5f",
             "gridcolor": "white",
             "linecolor": "white",
             "minorgridcolor": "white",
             "startlinecolor": "#2a3f5f"
            },
            "baxis": {
             "endlinecolor": "#2a3f5f",
             "gridcolor": "white",
             "linecolor": "white",
             "minorgridcolor": "white",
             "startlinecolor": "#2a3f5f"
            },
            "type": "carpet"
           }
          ],
          "choropleth": [
           {
            "colorbar": {
             "outlinewidth": 0,
             "ticks": ""
            },
            "type": "choropleth"
           }
          ],
          "contour": [
           {
            "colorbar": {
             "outlinewidth": 0,
             "ticks": ""
            },
            "colorscale": [
             [
              0,
              "#0d0887"
             ],
             [
              0.1111111111111111,
              "#46039f"
             ],
             [
              0.2222222222222222,
              "#7201a8"
             ],
             [
              0.3333333333333333,
              "#9c179e"
             ],
             [
              0.4444444444444444,
              "#bd3786"
             ],
             [
              0.5555555555555556,
              "#d8576b"
             ],
             [
              0.6666666666666666,
              "#ed7953"
             ],
             [
              0.7777777777777778,
              "#fb9f3a"
             ],
             [
              0.8888888888888888,
              "#fdca26"
             ],
             [
              1,
              "#f0f921"
             ]
            ],
            "type": "contour"
           }
          ],
          "contourcarpet": [
           {
            "colorbar": {
             "outlinewidth": 0,
             "ticks": ""
            },
            "type": "contourcarpet"
           }
          ],
          "heatmap": [
           {
            "colorbar": {
             "outlinewidth": 0,
             "ticks": ""
            },
            "colorscale": [
             [
              0,
              "#0d0887"
             ],
             [
              0.1111111111111111,
              "#46039f"
             ],
             [
              0.2222222222222222,
              "#7201a8"
             ],
             [
              0.3333333333333333,
              "#9c179e"
             ],
             [
              0.4444444444444444,
              "#bd3786"
             ],
             [
              0.5555555555555556,
              "#d8576b"
             ],
             [
              0.6666666666666666,
              "#ed7953"
             ],
             [
              0.7777777777777778,
              "#fb9f3a"
             ],
             [
              0.8888888888888888,
              "#fdca26"
             ],
             [
              1,
              "#f0f921"
             ]
            ],
            "type": "heatmap"
           }
          ],
          "heatmapgl": [
           {
            "colorbar": {
             "outlinewidth": 0,
             "ticks": ""
            },
            "colorscale": [
             [
              0,
              "#0d0887"
             ],
             [
              0.1111111111111111,
              "#46039f"
             ],
             [
              0.2222222222222222,
              "#7201a8"
             ],
             [
              0.3333333333333333,
              "#9c179e"
             ],
             [
              0.4444444444444444,
              "#bd3786"
             ],
             [
              0.5555555555555556,
              "#d8576b"
             ],
             [
              0.6666666666666666,
              "#ed7953"
             ],
             [
              0.7777777777777778,
              "#fb9f3a"
             ],
             [
              0.8888888888888888,
              "#fdca26"
             ],
             [
              1,
              "#f0f921"
             ]
            ],
            "type": "heatmapgl"
           }
          ],
          "histogram": [
           {
            "marker": {
             "pattern": {
              "fillmode": "overlay",
              "size": 10,
              "solidity": 0.2
             }
            },
            "type": "histogram"
           }
          ],
          "histogram2d": [
           {
            "colorbar": {
             "outlinewidth": 0,
             "ticks": ""
            },
            "colorscale": [
             [
              0,
              "#0d0887"
             ],
             [
              0.1111111111111111,
              "#46039f"
             ],
             [
              0.2222222222222222,
              "#7201a8"
             ],
             [
              0.3333333333333333,
              "#9c179e"
             ],
             [
              0.4444444444444444,
              "#bd3786"
             ],
             [
              0.5555555555555556,
              "#d8576b"
             ],
             [
              0.6666666666666666,
              "#ed7953"
             ],
             [
              0.7777777777777778,
              "#fb9f3a"
             ],
             [
              0.8888888888888888,
              "#fdca26"
             ],
             [
              1,
              "#f0f921"
             ]
            ],
            "type": "histogram2d"
           }
          ],
          "histogram2dcontour": [
           {
            "colorbar": {
             "outlinewidth": 0,
             "ticks": ""
            },
            "colorscale": [
             [
              0,
              "#0d0887"
             ],
             [
              0.1111111111111111,
              "#46039f"
             ],
             [
              0.2222222222222222,
              "#7201a8"
             ],
             [
              0.3333333333333333,
              "#9c179e"
             ],
             [
              0.4444444444444444,
              "#bd3786"
             ],
             [
              0.5555555555555556,
              "#d8576b"
             ],
             [
              0.6666666666666666,
              "#ed7953"
             ],
             [
              0.7777777777777778,
              "#fb9f3a"
             ],
             [
              0.8888888888888888,
              "#fdca26"
             ],
             [
              1,
              "#f0f921"
             ]
            ],
            "type": "histogram2dcontour"
           }
          ],
          "mesh3d": [
           {
            "colorbar": {
             "outlinewidth": 0,
             "ticks": ""
            },
            "type": "mesh3d"
           }
          ],
          "parcoords": [
           {
            "line": {
             "colorbar": {
              "outlinewidth": 0,
              "ticks": ""
             }
            },
            "type": "parcoords"
           }
          ],
          "pie": [
           {
            "automargin": true,
            "type": "pie"
           }
          ],
          "scatter": [
           {
            "fillpattern": {
             "fillmode": "overlay",
             "size": 10,
             "solidity": 0.2
            },
            "type": "scatter"
           }
          ],
          "scatter3d": [
           {
            "line": {
             "colorbar": {
              "outlinewidth": 0,
              "ticks": ""
             }
            },
            "marker": {
             "colorbar": {
              "outlinewidth": 0,
              "ticks": ""
             }
            },
            "type": "scatter3d"
           }
          ],
          "scattercarpet": [
           {
            "marker": {
             "colorbar": {
              "outlinewidth": 0,
              "ticks": ""
             }
            },
            "type": "scattercarpet"
           }
          ],
          "scattergeo": [
           {
            "marker": {
             "colorbar": {
              "outlinewidth": 0,
              "ticks": ""
             }
            },
            "type": "scattergeo"
           }
          ],
          "scattergl": [
           {
            "marker": {
             "colorbar": {
              "outlinewidth": 0,
              "ticks": ""
             }
            },
            "type": "scattergl"
           }
          ],
          "scattermapbox": [
           {
            "marker": {
             "colorbar": {
              "outlinewidth": 0,
              "ticks": ""
             }
            },
            "type": "scattermapbox"
           }
          ],
          "scatterpolar": [
           {
            "marker": {
             "colorbar": {
              "outlinewidth": 0,
              "ticks": ""
             }
            },
            "type": "scatterpolar"
           }
          ],
          "scatterpolargl": [
           {
            "marker": {
             "colorbar": {
              "outlinewidth": 0,
              "ticks": ""
             }
            },
            "type": "scatterpolargl"
           }
          ],
          "scatterternary": [
           {
            "marker": {
             "colorbar": {
              "outlinewidth": 0,
              "ticks": ""
             }
            },
            "type": "scatterternary"
           }
          ],
          "surface": [
           {
            "colorbar": {
             "outlinewidth": 0,
             "ticks": ""
            },
            "colorscale": [
             [
              0,
              "#0d0887"
             ],
             [
              0.1111111111111111,
              "#46039f"
             ],
             [
              0.2222222222222222,
              "#7201a8"
             ],
             [
              0.3333333333333333,
              "#9c179e"
             ],
             [
              0.4444444444444444,
              "#bd3786"
             ],
             [
              0.5555555555555556,
              "#d8576b"
             ],
             [
              0.6666666666666666,
              "#ed7953"
             ],
             [
              0.7777777777777778,
              "#fb9f3a"
             ],
             [
              0.8888888888888888,
              "#fdca26"
             ],
             [
              1,
              "#f0f921"
             ]
            ],
            "type": "surface"
           }
          ],
          "table": [
           {
            "cells": {
             "fill": {
              "color": "#EBF0F8"
             },
             "line": {
              "color": "white"
             }
            },
            "header": {
             "fill": {
              "color": "#C8D4E3"
             },
             "line": {
              "color": "white"
             }
            },
            "type": "table"
           }
          ]
         },
         "layout": {
          "annotationdefaults": {
           "arrowcolor": "#2a3f5f",
           "arrowhead": 0,
           "arrowwidth": 1
          },
          "autotypenumbers": "strict",
          "coloraxis": {
           "colorbar": {
            "outlinewidth": 0,
            "ticks": ""
           }
          },
          "colorscale": {
           "diverging": [
            [
             0,
             "#8e0152"
            ],
            [
             0.1,
             "#c51b7d"
            ],
            [
             0.2,
             "#de77ae"
            ],
            [
             0.3,
             "#f1b6da"
            ],
            [
             0.4,
             "#fde0ef"
            ],
            [
             0.5,
             "#f7f7f7"
            ],
            [
             0.6,
             "#e6f5d0"
            ],
            [
             0.7,
             "#b8e186"
            ],
            [
             0.8,
             "#7fbc41"
            ],
            [
             0.9,
             "#4d9221"
            ],
            [
             1,
             "#276419"
            ]
           ],
           "sequential": [
            [
             0,
             "#0d0887"
            ],
            [
             0.1111111111111111,
             "#46039f"
            ],
            [
             0.2222222222222222,
             "#7201a8"
            ],
            [
             0.3333333333333333,
             "#9c179e"
            ],
            [
             0.4444444444444444,
             "#bd3786"
            ],
            [
             0.5555555555555556,
             "#d8576b"
            ],
            [
             0.6666666666666666,
             "#ed7953"
            ],
            [
             0.7777777777777778,
             "#fb9f3a"
            ],
            [
             0.8888888888888888,
             "#fdca26"
            ],
            [
             1,
             "#f0f921"
            ]
           ],
           "sequentialminus": [
            [
             0,
             "#0d0887"
            ],
            [
             0.1111111111111111,
             "#46039f"
            ],
            [
             0.2222222222222222,
             "#7201a8"
            ],
            [
             0.3333333333333333,
             "#9c179e"
            ],
            [
             0.4444444444444444,
             "#bd3786"
            ],
            [
             0.5555555555555556,
             "#d8576b"
            ],
            [
             0.6666666666666666,
             "#ed7953"
            ],
            [
             0.7777777777777778,
             "#fb9f3a"
            ],
            [
             0.8888888888888888,
             "#fdca26"
            ],
            [
             1,
             "#f0f921"
            ]
           ]
          },
          "colorway": [
           "#636efa",
           "#EF553B",
           "#00cc96",
           "#ab63fa",
           "#FFA15A",
           "#19d3f3",
           "#FF6692",
           "#B6E880",
           "#FF97FF",
           "#FECB52"
          ],
          "font": {
           "color": "#2a3f5f"
          },
          "geo": {
           "bgcolor": "white",
           "lakecolor": "white",
           "landcolor": "#E5ECF6",
           "showlakes": true,
           "showland": true,
           "subunitcolor": "white"
          },
          "hoverlabel": {
           "align": "left"
          },
          "hovermode": "closest",
          "mapbox": {
           "style": "light"
          },
          "paper_bgcolor": "white",
          "plot_bgcolor": "#E5ECF6",
          "polar": {
           "angularaxis": {
            "gridcolor": "white",
            "linecolor": "white",
            "ticks": ""
           },
           "bgcolor": "#E5ECF6",
           "radialaxis": {
            "gridcolor": "white",
            "linecolor": "white",
            "ticks": ""
           }
          },
          "scene": {
           "xaxis": {
            "backgroundcolor": "#E5ECF6",
            "gridcolor": "white",
            "gridwidth": 2,
            "linecolor": "white",
            "showbackground": true,
            "ticks": "",
            "zerolinecolor": "white"
           },
           "yaxis": {
            "backgroundcolor": "#E5ECF6",
            "gridcolor": "white",
            "gridwidth": 2,
            "linecolor": "white",
            "showbackground": true,
            "ticks": "",
            "zerolinecolor": "white"
           },
           "zaxis": {
            "backgroundcolor": "#E5ECF6",
            "gridcolor": "white",
            "gridwidth": 2,
            "linecolor": "white",
            "showbackground": true,
            "ticks": "",
            "zerolinecolor": "white"
           }
          },
          "shapedefaults": {
           "line": {
            "color": "#2a3f5f"
           }
          },
          "ternary": {
           "aaxis": {
            "gridcolor": "white",
            "linecolor": "white",
            "ticks": ""
           },
           "baxis": {
            "gridcolor": "white",
            "linecolor": "white",
            "ticks": ""
           },
           "bgcolor": "#E5ECF6",
           "caxis": {
            "gridcolor": "white",
            "linecolor": "white",
            "ticks": ""
           }
          },
          "title": {
           "x": 0.05
          },
          "xaxis": {
           "automargin": true,
           "gridcolor": "white",
           "linecolor": "white",
           "ticks": "",
           "title": {
            "standoff": 15
           },
           "zerolinecolor": "white",
           "zerolinewidth": 2
          },
          "yaxis": {
           "automargin": true,
           "gridcolor": "white",
           "linecolor": "white",
           "ticks": "",
           "title": {
            "standoff": 15
           },
           "zerolinecolor": "white",
           "zerolinewidth": 2
          }
         }
        },
        "title": {
         "text": "Cargas Fatoriais: F1 vs F2"
        },
        "xaxis": {
         "anchor": "y",
         "domain": [
          0,
          1
         ],
         "title": {
          "text": "F1"
         }
        },
        "yaxis": {
         "anchor": "x",
         "domain": [
          0,
          1
         ],
         "title": {
          "text": "F2"
         }
        }
       }
      }
     },
     "metadata": {},
     "output_type": "display_data"
    }
   ],
   "source": [
    "# Autovalores e Critério de Kaiser\n",
    "autovalores = pca.explained_variance_\n",
    "fatores_selecionados = ['Selecionado' if x > 1 else 'Não Selecionado' for x in autovalores]\n",
    "\n",
    "# Resumo\n",
    "resumo = pd.DataFrame({\n",
    "    'Fator': [f'F{i+1}' for i in range(n_fatores)],\n",
    "    'Autovalor': autovalores,\n",
    "    'Variância (%)': pca.explained_variance_ratio_ * 100,\n",
    "    'Variância Acumulada (%)': np.cumsum(pca.explained_variance_ratio_) * 100\n",
    "}).round(2)\n",
    "print(\"Resumo dos Fatores:\")\n",
    "display(resumo)\n",
    "\n",
    "# Cargas fatoriais (F1 e F2)\n",
    "cargas_fatoriais = pd.DataFrame(pca.components_.T * np.sqrt(autovalores),\n",
    "                               columns=[f'F{i+1}' for i in range(n_fatores)],\n",
    "                               index=variaveis_numericas.columns)\n",
    "print(\"\\nCargas Fatoriais (F1 e F2):\")\n",
    "display(cargas_fatoriais[['F1', 'F2']])\n",
    "\n",
    "# Visualização das cargas\n",
    "fig = px.scatter(cargas_fatoriais, x='F1', y='F2', text=cargas_fatoriais.index,\n",
    "                 title='Cargas Fatoriais: F1 vs F2')\n",
    "fig.update_traces(textposition='top center')\n",
    "fig.show()"
   ]
  },
  {
   "cell_type": "markdown",
   "metadata": {},
   "source": [
    "- Usamos o Critério de Kaiser (autovalores > 1) para selecionar F1 e F2, que explicam a maior parte da variância.\n",
    "- Calculamos as cargas fatoriais, mostrando como cada variável contribui para os fatores.\n",
    "- Um gráfico de dispersão interativo ajuda a interpretar F1 e F2, destacando variáveis influentes."
   ]
  },
  {
   "cell_type": "markdown",
   "metadata": {},
   "source": [
    "### Passo 6: Criação do Ranking\n"
   ]
  },
  {
   "cell_type": "code",
   "execution_count": 13,
   "metadata": {},
   "outputs": [
    {
     "name": "stdout",
     "output_type": "stream",
     "text": [
      "Ranking dos Distritos:\n"
     ]
    },
    {
     "data": {
      "text/html": [
       "<div>\n",
       "<style scoped>\n",
       "    .dataframe tbody tr th:only-of-type {\n",
       "        vertical-align: middle;\n",
       "    }\n",
       "\n",
       "    .dataframe tbody tr th {\n",
       "        vertical-align: top;\n",
       "    }\n",
       "\n",
       "    .dataframe thead th {\n",
       "        text-align: right;\n",
       "    }\n",
       "</style>\n",
       "<table border=\"1\" class=\"dataframe\">\n",
       "  <thead>\n",
       "    <tr style=\"text-align: right;\">\n",
       "      <th></th>\n",
       "      <th>cod_ibge</th>\n",
       "      <th>distritos</th>\n",
       "      <th>F1</th>\n",
       "      <th>F2</th>\n",
       "      <th>Ranking</th>\n",
       "    </tr>\n",
       "  </thead>\n",
       "  <tbody>\n",
       "    <tr>\n",
       "      <th>44</th>\n",
       "      <td>40</td>\n",
       "      <td>Jardim Paulista</td>\n",
       "      <td>5.491038</td>\n",
       "      <td>0.532436</td>\n",
       "      <td>3.092632</td>\n",
       "    </tr>\n",
       "    <tr>\n",
       "      <th>31</th>\n",
       "      <td>26</td>\n",
       "      <td>Moema</td>\n",
       "      <td>4.381708</td>\n",
       "      <td>1.477302</td>\n",
       "      <td>2.603996</td>\n",
       "    </tr>\n",
       "    <tr>\n",
       "      <th>70</th>\n",
       "      <td>69</td>\n",
       "      <td>Santo Amaro</td>\n",
       "      <td>4.224362</td>\n",
       "      <td>1.574882</td>\n",
       "      <td>2.529974</td>\n",
       "    </tr>\n",
       "    <tr>\n",
       "      <th>1</th>\n",
       "      <td>12</td>\n",
       "      <td>Alto de Pinheiros</td>\n",
       "      <td>3.985600</td>\n",
       "      <td>1.555514</td>\n",
       "      <td>2.395989</td>\n",
       "    </tr>\n",
       "    <tr>\n",
       "      <th>61</th>\n",
       "      <td>59</td>\n",
       "      <td>Pinheiros</td>\n",
       "      <td>3.778843</td>\n",
       "      <td>0.795862</td>\n",
       "      <td>2.183857</td>\n",
       "    </tr>\n",
       "  </tbody>\n",
       "</table>\n",
       "</div>"
      ],
      "text/plain": [
       "    cod_ibge          distritos        F1        F2   Ranking\n",
       "44        40    Jardim Paulista  5.491038  0.532436  3.092632\n",
       "31        26              Moema  4.381708  1.477302  2.603996\n",
       "70        69        Santo Amaro  4.224362  1.574882  2.529974\n",
       "1         12  Alto de Pinheiros  3.985600  1.555514  2.395989\n",
       "61        59          Pinheiros  3.778843  0.795862  2.183857"
      ]
     },
     "metadata": {},
     "output_type": "display_data"
    }
   ],
   "source": [
    "# Scores fatoriais para F1 e F2\n",
    "pca_2 = PCA(n_components=2)\n",
    "scores = pca_2.fit_transform(dados_padronizados)\n",
    "dados_fatoriais = distritos_sp[['cod_ibge', 'distritos']].copy()\n",
    "dados_fatoriais[['F1', 'F2']] = scores\n",
    "\n",
    "# Cálculo do ranking ponderado\n",
    "dados_fatoriais['Ranking'] = (dados_fatoriais['F1'] * pca_2.explained_variance_ratio_[0] + \n",
    "                              dados_fatoriais['F2'] * pca_2.explained_variance_ratio_[1])\n",
    "ranking_final = dados_fatoriais.sort_values('Ranking', ascending=False)\n",
    "\n",
    "print(\"Ranking dos Distritos:\")\n",
    "display(ranking_final.head())"
   ]
  },
  {
   "cell_type": "markdown",
   "metadata": {},
   "source": [
    "- Extraímos scores fatoriais para F1 e F2, projetando os distritos no espaço reduzido.\n",
    "- Calculamos um ranking ponderado, combinando os scores com a variância explicada de cada fator.\n",
    "- Exibimos os top distritos, oferecendo uma visão clara dos resultados."
   ]
  },
  {
   "cell_type": "markdown",
   "metadata": {},
   "source": [
    "### Passo 7: Visualização Geoespacial\n"
   ]
  },
  {
   "cell_type": "code",
   "execution_count": null,
   "metadata": {},
   "outputs": [
    {
     "name": "stdout",
     "output_type": "stream",
     "text": [
      "Colunas em dados_completos após o merge:\n",
      "Index(['ds_nome', 'ds_codigo', 'ds_cd_sub', 'ds_subpref', 'ds_sigla',\n",
      "       'ds_areamt', 'ds_areakm', 'geometry', 'cod_ibge', 'distritos', 'renda',\n",
      "       'quota', 'escolaridade', 'idade', 'mortalidade', 'txcresc', 'causasext',\n",
      "       'favel', 'denspop', 'nome_distrito', 'Ranking'],\n",
      "      dtype='object')\n"
     ]
    },
    {
     "data": {
      "image/png": "[encoded data removed]",
      "text/plain": [
       "<Figure size 1500x1000 with 2 Axes>"
      ]
     },
     "metadata": {},
     "output_type": "display_data"
    },
    {
     "name": "stdout",
     "output_type": "stream",
     "text": [
      "Mapa interativo salvo como 'ranking_distritos.html'.\n"
     ]
    }
   ],
   "source": [
    "# Carregamento do shapefile\n",
    "# Carregamento do shapefile\n",
    "dados_mapa = gpd.read_file('../data/SIRGAS_SHP_distrito.shp')\n",
    "dados_mapa.set_crs(epsg=31983, inplace=True)\n",
    "\n",
    "# Garantindo que a coluna 'Ranking' esteja em distritos_sp antes do merge\n",
    "distritos_sp['Ranking'] = dados_fatoriais['Ranking']  # Transferindo do Bloco 6\n",
    "\n",
    "# Tratamento e merge\n",
    "distritos_sp['nome_distrito'] = [unidecode(d).upper() for d in distritos_sp['distritos']]\n",
    "distritos_sp.replace({'SARCOMA': 'SACOMA', 'Sarcomã': 'Sacoma'}, inplace=True)\n",
    "dados_completos = dados_mapa.merge(distritos_sp, left_on='ds_nome', right_on='nome_distrito')\n",
    "\n",
    "# Verificação do DataFrame resultante\n",
    "print(\"Colunas em dados_completos após o merge:\")\n",
    "print(dados_completos.columns)\n",
    "\n",
    "# Mapa estático\n",
    "fig, ax = plt.subplots(figsize=(15, 10))\n",
    "dados_completos.plot(column='Ranking', cmap='RdBu', legend=True, ax=ax,\n",
    "                     legend_kwds={'label': 'Ranking Socioeconômico', 'orientation': 'vertical'})\n",
    "ax.set_title('Ranking Socioeconômico dos Distritos de SP', fontsize=16)\n",
    "ax.axis('off')\n",
    "plt.show()\n",
    "\n",
    "# Mapa dinâmico\n",
    "mapa_interativo = dados_completos.explore(column='Ranking', cmap='seismic_r', tooltip='distritos',\n",
    "                                          tooltip_kwds={'labels': False}, name='Distritos SP')\n",
    "folium.TileLayer('OpenStreetMap').add_to(mapa_interativo)\n",
    "folium.LayerControl().add_to(mapa_interativo)\n",
    "mapa_interativo.save('../ranking_distritos.html')\n",
    "print(\"Mapa interativo salvo como 'ranking_distritos.html'.\")"
   ]
  },
  {
   "cell_type": "markdown",
   "metadata": {},
   "source": [
    "- Carregamos o shapefile dos distritos de São Paulo e definimos o sistema de coordenadas (EPSG:31983).\n",
    "- Transferimos o ranking calculado para o dataset principal e padronizamos os nomes dos distritos.\n",
    "- Criamos um mapa estático com `geopandas` e `matplotlib`, usando uma paleta de cores para destacar o ranking.\n",
    "- Geramos um mapa interativo com `folium` e `mapclassify`, permitindo exploração detalhada com camadas adicionais.\n",
    "- Exportamos o mapa como HTML para fácil compartilhamento."
   ]
  },
  {
   "cell_type": "markdown",
   "metadata": {},
   "source": [
    "## Conclusão\n",
    "\n",
    "Este projeto integra técnicas de Machine Learning (PCA), manipulação de dados e visualização geoespacial para criar um ranking socioeconômico dos distritos de São Paulo. Pontos fortes incluem:\n",
    "\n",
    "- **Redução de Dimensionalidade:** PCA simplificou variáveis correlacionadas em 2 fatores principais, preservando ~68% da variância.\n",
    "- **Análise Estatística:** Testes KMO e Bartlett confirmaram a adequação dos dados.\n",
    "- **Aplicação Prática:** O ranking foi visualizado em mapas interativos, oferecendo insights acionáveis.\n",
    "\n",
    "**Habilidades Demonstradas:**\n",
    "- Proficiência em Python e bibliotecas como `pandas`, `sklearn`, `geopandas` e `folium`.\n",
    "- Capacidade de transformar dados brutos em análises visuais impactantes.\n",
    "- Pensamento analítico para interpretar resultados e comunicar insights.\n",
    "\n",
    "**Próximos Passos:** Integrar mais variáveis ou explorar modelos supervisionados para prever tendências nos distritos.\n",
    "\n",
    "Disponível em: [Link para GitHub ou outro repositório]"
   ]
  }
 ],
 "metadata": {
  "kernelspec": {
   "display_name": "base",
   "language": "python",
   "name": "python3"
  },
  "language_info": {
   "codemirror_mode": {
    "name": "ipython",
    "version": 3
   },
   "file_extension": ".py",
   "mimetype": "text/x-python",
   "name": "python",
   "nbconvert_exporter": "python",
   "pygments_lexer": "ipython3",
   "version": "3.12.4"
  }
 },
 "nbformat": 4,
 "nbformat_minor": 2
}
